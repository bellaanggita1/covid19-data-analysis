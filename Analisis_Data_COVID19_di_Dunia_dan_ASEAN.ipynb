{
  "nbformat": 4,
  "nbformat_minor": 0,
  "metadata": {
    "colab": {
      "name": "Analisis Data COVID19 di Dunia dan ASEAN.ipynb",
      "provenance": [],
      "authorship_tag": "ABX9TyOkP3esNu/GP6BfsRi6o6mW",
      "include_colab_link": true
    },
    "kernelspec": {
      "name": "python3",
      "display_name": "Python 3"
    }
  },
  "cells": [
    {
      "cell_type": "markdown",
      "metadata": {
        "id": "view-in-github",
        "colab_type": "text"
      },
      "source": [
        "<a href=\"https://colab.research.google.com/github/bellaanggita1/covid19-data-analysis/blob/main/Analisis_Data_COVID19_di_Dunia_dan_ASEAN.ipynb\" target=\"_parent\"><img src=\"https://colab.research.google.com/assets/colab-badge.svg\" alt=\"Open In Colab\"/></a>"
      ]
    },
    {
      "cell_type": "code",
      "metadata": {
        "id": "F1rmbjoloryH"
      },
      "source": [
        "import json\r\n",
        "import numpy as py\r\n",
        "import pandas as pd\r\n",
        "import requests"
      ],
      "execution_count": null,
      "outputs": []
    },
    {
      "cell_type": "markdown",
      "metadata": {
        "id": "uDQuSubAoy-2"
      },
      "source": [
        "Membuat Fungsi get API"
      ]
    },
    {
      "cell_type": "code",
      "metadata": {
        "id": "jwuT-J_CrLgN"
      },
      "source": [
        "def get_json(api_url):\r\n",
        "\tresponse = requests.get(api_url)\r\n",
        "\tif response.status_code == 200:\r\n",
        "\t\treturn json.loads(response.content.decode('utf-8'))\r\n",
        "\telse:\r\n",
        "\t\treturn none"
      ],
      "execution_count": null,
      "outputs": []
    },
    {
      "cell_type": "markdown",
      "metadata": {
        "id": "4pdOol4Y6kM-"
      },
      "source": [
        "Memanggil API Covid19"
      ]
    },
    {
      "cell_type": "code",
      "metadata": {
        "id": "iQxo8JtT7CeI"
      },
      "source": [
        "record_date = '2020-08-17'\r\n",
        "covid_url = 'https://covid19-api.org/api/status?date='+record_date\r\n",
        "df_covid_worldwide = pd.io.json.json_normalize(get_json(covid_url))\r\n",
        "\r\n",
        "print(df_covid_worldwide.head())"
      ],
      "execution_count": null,
      "outputs": []
    },
    {
      "cell_type": "markdown",
      "metadata": {
        "id": "eKU_x8c52APE"
      },
      "source": [
        "Merubah Format date"
      ]
    },
    {
      "cell_type": "code",
      "metadata": {
        "id": "8DzPXKKD7bOD"
      },
      "source": [
        "df_covid_worldwide['last_update'] = pd.to_datetime(df_covid_worldwide['last_update'], format='%Y-%m-%d %H:%M:%S')\r\n",
        "df_covid_worldwide['last_update'] = df_covid_worldwide['last_update'].apply(lambda x: x.date())"
      ],
      "execution_count": null,
      "outputs": []
    },
    {
      "cell_type": "markdown",
      "metadata": {
        "id": "hArRjKrM-AFp"
      },
      "source": [
        "Mengambil Data Countries"
      ]
    },
    {
      "cell_type": "code",
      "metadata": {
        "id": "TPYFhuce-STt"
      },
      "source": [
        "countries_url = 'https://covid19-api.org/api/countries'\r\n",
        "df_countries = pd.io.json.json_normalize(get_json(countries_url))\r\n",
        "df_countries = df_countries.rename(columns={'alpha2': 'country'})[['name','country']]\r\n",
        "\r\n",
        "print(df_countries.head())"
      ],
      "execution_count": null,
      "outputs": []
    },
    {
      "cell_type": "markdown",
      "metadata": {
        "id": "qTLuwzPyYbEM"
      },
      "source": [
        "Merge Covid19 Data dan Countries"
      ]
    },
    {
      "cell_type": "code",
      "metadata": {
        "id": "KX8yYbGDYeV0"
      },
      "source": [
        "df_covid_denormalized = pd.merge(df_covid_worldwide, df_countries, on='country')\r\n",
        "\r\n",
        "print(df_covid_denormalized.head())"
      ],
      "execution_count": null,
      "outputs": []
    },
    {
      "cell_type": "markdown",
      "metadata": {
        "id": "CTVQ-gKGZ8X7"
      },
      "source": [
        "Menghitung Fatality Ratio"
      ]
    },
    {
      "cell_type": "code",
      "metadata": {
        "id": "I7YV9J65aAc9"
      },
      "source": [
        "df_covid_denormalized['fatality_ratio'] = df_covid_denormalized['deaths']/df_covid_denormalized['cases']"
      ],
      "execution_count": null,
      "outputs": []
    },
    {
      "cell_type": "markdown",
      "metadata": {
        "id": "0csGavPDc5sj"
      },
      "source": [
        "Negara-negara dengan Fatality Ratio Tertinggi"
      ]
    },
    {
      "cell_type": "code",
      "metadata": {
        "id": "oYBrsjmpdAYs"
      },
      "source": [
        "df_top_20_fatality_rate = df_covid_denormalized.___(by='___', ascending=False).head(___)"
      ],
      "execution_count": null,
      "outputs": []
    },
    {
      "cell_type": "markdown",
      "metadata": {
        "id": "7WvY-lpod9zK"
      },
      "source": [
        "Import Library Visualisasi"
      ]
    },
    {
      "cell_type": "code",
      "metadata": {
        "id": "Zx77a-wOd99T"
      },
      "source": [
        "import matplotlib.pyplot as plt"
      ],
      "execution_count": null,
      "outputs": []
    },
    {
      "cell_type": "markdown",
      "metadata": {
        "id": "ZOqyTHFBekOV"
      },
      "source": [
        "Visualisasi Negara dengan Fatality Ratio Tertinggi"
      ]
    },
    {
      "cell_type": "code",
      "metadata": {
        "id": "cIY-Qy6NetwY"
      },
      "source": [
        "import matplotlib.pyplot as plt\r\n",
        "plt.figure(figsize=(20, 8))\r\n",
        "x = df_top_20_fatality_rate['name']\r\n",
        "y = df_top_20_fatality_rate['fatality_ratio']\r\n",
        "plt.bar(x,y)\r\n",
        "plt.xlabel('Country Name')\r\n",
        "plt.ylabel('Fatality Rate')\r\n",
        "plt.title('Top 20 Highest Fatality Rate Countries')\r\n",
        "plt.xticks(rotation=90)\r\n",
        "plt.tight_layout()\r\n",
        "plt.show()"
      ],
      "execution_count": null,
      "outputs": []
    },
    {
      "cell_type": "markdown",
      "metadata": {
        "id": "na8PXnVwf-zy"
      },
      "source": [
        "Menggabungkan Dataframe"
      ]
    },
    {
      "cell_type": "code",
      "metadata": {
        "id": "sP8aDGqWilqy"
      },
      "source": [
        "countries = ['ID','MY','SG','TH','VN']\r\n",
        "i = 0\r\n",
        "for country in countries:\r\n",
        "\tcovid_timeline_url = 'https://covid19-api.org/api/timeline/'+country\r\n",
        "\tdf_covid_timeline = pd.io.json.json_normalize(get_json(covid_timeline_url))\r\n",
        "\tdf_covid_timeline['last_update'] = pd.to_datetime(df_covid_timeline['last_update'], format='%Y-%m-%dT%H:%M:%S')\r\n",
        "\tdf_covid_timeline['last_update'] = df_covid_timeline['last_update'].apply(lambda x: x.date())\r\n",
        "\tif i==0:\r\n",
        "\t\tdf_covid_timeline_merged = df_covid_timeline\r\n",
        "\telse:\r\n",
        "\t\tdf_covid_timeline_merged = df_covid_timeline.append(df_covid_timeline_merged, ignore_index=True)\r\n",
        "\ti=i+1\r\n",
        "    \r\n",
        "print(df_covid_timeline_merged.head())"
      ],
      "execution_count": null,
      "outputs": []
    },
    {
      "cell_type": "markdown",
      "metadata": {
        "id": "U8VR0OMDje3k"
      },
      "source": [
        "Merge Data Covid19 Dengan Data Country"
      ]
    },
    {
      "cell_type": "code",
      "metadata": {
        "id": "XNVfE-E7jpQZ"
      },
      "source": [
        "df_covid_timeline_denormalized = pd.merge(df_covid_timeline_merged, df_countries , on='country')"
      ],
      "execution_count": null,
      "outputs": []
    },
    {
      "cell_type": "markdown",
      "metadata": {
        "id": "D-nPLBCijyjU"
      },
      "source": [
        "Kasus Covid-19 di ASEAN pada Bulan Maret 2020"
      ]
    },
    {
      "cell_type": "code",
      "metadata": {
        "id": "GJ497kUcj0VK"
      },
      "source": [
        "import datetime\r\n",
        "df_covid_timeline_denormalized = df_covid_timeline_denormalized[(df_covid_timeline_denormalized['last_update'] >= datetime.date(2020,3,1))]"
      ],
      "execution_count": null,
      "outputs": []
    },
    {
      "cell_type": "markdown",
      "metadata": {
        "id": "WLs684aakTIN"
      },
      "source": [
        "Visualisasi Kasus Covid-19 di ASEAN\r\n"
      ]
    },
    {
      "cell_type": "code",
      "metadata": {
        "id": "XA4eU6abkX6m"
      },
      "source": [
        "import matplotlib.pyplot as plt\r\n",
        "plt.clf()\r\n",
        "countries = ['ID','MY','SG','TH','VN']\r\n",
        "for country in countries:\r\n",
        "\tcountry_data = df_covid_timeline_denormalized['country']==country\r\n",
        "\tx= df_covid_timeline_denormalized[country_data]['last_update']\r\n",
        "\ty= df_covid_timeline_denormalized[country_data]['cases']\r\n",
        "\tplt.plot(x,y, label =country)\r\n",
        "\r\n",
        "plt.legend()\r\n",
        "plt.xlabel('Record Date')\r\n",
        "plt.ylabel('Total Cases')\r\n",
        "plt.title('Asean Covid19 Cases Comparison')\r\n",
        "plt.show()"
      ],
      "execution_count": null,
      "outputs": []
    }
  ]
}